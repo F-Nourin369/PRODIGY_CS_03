{
 "cells": [
  {
   "cell_type": "code",
   "execution_count": null,
   "id": "94ee1467-294e-4a84-8207-7f8516a47260",
   "metadata": {},
   "outputs": [],
   "source": [
    "from tkinter import *\n",
    "from tkinter import filedialog\n",
    "\n",
    "root = Tk()\n",
    "root.geometry(\"200x200\")\n",
    "\n",
    "def process_image(encrypt=True):\n",
    "    file1 = filedialog.askopenfile(mode='r', filetype=[('jpg file', '*.jpg')])\n",
    "    if file1 is not None:\n",
    "        file_name = file1.name\n",
    "        key = entry1.get(1.0, END).strip()  \n",
    "        print(file_name, key)\n",
    "        fi = open(file_name, 'rb')\n",
    "        image = fi.read()\n",
    "        fi.close()\n",
    "        image = bytearray(image)\n",
    "        for index, values in enumerate(image):\n",
    "            image[index] = values ^ int(key)\n",
    "        fil = open(file_name, 'wb')\n",
    "        fil.write(image)\n",
    "        fil.close()\n",
    "\n",
    "b1 = Button(root, text=\"Encrypt\", command=lambda: process_image(encrypt=True))\n",
    "b1.place(x=50, y=30)\n",
    "\n",
    "b2 = Button(root, text=\"Decrypt\", command=lambda: process_image(encrypt=False))\n",
    "b2.place(x=50, y=70)\n",
    "\n",
    "entry1 = Text(root, height=1, width=10)\n",
    "entry1.place(x=50, y=110)\n",
    "\n",
    "root.mainloop()\n"
   ]
  }
 ],
 "metadata": {
  "kernelspec": {
   "display_name": "Python 3 (ipykernel)",
   "language": "python",
   "name": "python3"
  },
  "language_info": {
   "codemirror_mode": {
    "name": "ipython",
    "version": 3
   },
   "file_extension": ".py",
   "mimetype": "text/x-python",
   "name": "python",
   "nbconvert_exporter": "python",
   "pygments_lexer": "ipython3",
   "version": "3.11.7"
  }
 },
 "nbformat": 4,
 "nbformat_minor": 5
}
